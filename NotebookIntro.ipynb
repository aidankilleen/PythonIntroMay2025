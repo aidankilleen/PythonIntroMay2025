{
 "cells": [
  {
   "cell_type": "code",
   "execution_count": 1,
   "id": "bf129d03",
   "metadata": {},
   "outputs": [
    {
     "name": "stdout",
     "output_type": "stream",
     "text": [
      "Welcome Aidan\n"
     ]
    }
   ],
   "source": [
    "name = \"Aidan\"\n",
    "print (f\"Welcome {name}\")\n"
   ]
  },
  {
   "cell_type": "code",
   "execution_count": 14,
   "id": "9a2e9f91",
   "metadata": {},
   "outputs": [
    {
     "name": "stdout",
     "output_type": "stream",
     "text": [
      "9\n"
     ]
    }
   ],
   "source": [
    "from random import randint\n",
    "r = randint(1, 10)\n",
    "\n",
    "print (r)"
   ]
  },
  {
   "cell_type": "code",
   "execution_count": 16,
   "id": "85719e04",
   "metadata": {},
   "outputs": [
    {
     "name": "stdout",
     "output_type": "stream",
     "text": [
      "Aidan\n",
      "9\n",
      "36\n"
     ]
    }
   ],
   "source": [
    "print (name)\n",
    "print (r)\n",
    "\n",
    "print (randint(1, 99))"
   ]
  },
  {
   "cell_type": "code",
   "execution_count": null,
   "id": "0b23fd69",
   "metadata": {},
   "outputs": [],
   "source": []
  },
  {
   "cell_type": "markdown",
   "id": "f6385b9a",
   "metadata": {},
   "source": [
    "# Jupyter Notebook Investigation\n",
    "## Summary information\n",
    "\n",
    "This is **really important** don't forget about this\n",
    "\n",
    "this is __underlined__\n",
    "\n",
    "this is ~~strikethrough~~ "
   ]
  },
  {
   "cell_type": "code",
   "execution_count": null,
   "id": "92afc018",
   "metadata": {},
   "outputs": [],
   "source": []
  },
  {
   "cell_type": "code",
   "execution_count": 19,
   "id": "ea38572f",
   "metadata": {},
   "outputs": [
    {
     "data": {
      "image/png": "[encoded data removed]",
      "text/plain": [
       "<Figure size 640x480 with 1 Axes>"
      ]
     },
     "metadata": {},
     "output_type": "display_data"
    }
   ],
   "source": [
    "import matplotlib.pyplot as plt\n",
    "\n",
    "x = [1, 2, 3, 4, 5, 6]\n",
    "y = [66, 44, 35, 67, 99, 14]\n",
    "\n",
    "plt.plot(x, y)\n",
    "plt.xlabel(\"X Axis\")\n",
    "plt.ylabel(\"Sales\")\n",
    "plt.title(\"First Plot\")\n",
    "\n",
    "plt.show()"
   ]
  },
  {
   "cell_type": "code",
   "execution_count": 30,
   "id": "ab6a0428",
   "metadata": {},
   "outputs": [
    {
     "name": "stdout",
     "output_type": "stream",
     "text": [
      "1\n",
      "2\n",
      "4\n",
      "0b100\n",
      "000000001\n",
      "000000010\n",
      "000000100\n",
      "000001000\n",
      "000010000\n",
      "000100000\n",
      "001000000\n",
      "010000000\n",
      "100000000\n",
      "The binary value of 123 is 001111011\n"
     ]
    }
   ],
   "source": [
    "n = 10\n",
    "\n",
    "n = 0xff\n",
    "\n",
    "n = 0b11111111\n",
    "\n",
    "n = 0b00000001\n",
    "\n",
    "print (n)\n",
    "\n",
    "n = n << 1\n",
    "\n",
    "print (n)\n",
    "\n",
    "n = n << 1\n",
    "\n",
    "print (n)\n",
    "\n",
    "print (bin(n))\n",
    "\n",
    "n = 1\n",
    "\n",
    "for i in range(9):\n",
    "    print (format(n<<i, '09b'))\n",
    "\n",
    "n = 123\n",
    "message = f\"The binary value of {n} is {n:09b}\"\n",
    "\n",
    "print (message)\n"
   ]
  },
  {
   "cell_type": "code",
   "execution_count": 33,
   "id": "6be7ed0b",
   "metadata": {},
   "outputs": [
    {
     "name": "stdout",
     "output_type": "stream",
     "text": [
      "100000000\n",
      "010000000\n",
      "001000000\n",
      "000100000\n",
      "000010000\n",
      "000001000\n",
      "000000100\n",
      "000000010\n",
      "000000001\n",
      "000000000\n"
     ]
    }
   ],
   "source": [
    "n = 256\n",
    "print (f\"{n:09b}\")\n",
    "while n > 0:\n",
    "    n >>= 1\n",
    "    print (f\"{n:09b}\")"
   ]
  },
  {
   "cell_type": "code",
   "execution_count": 38,
   "id": "689dcab0",
   "metadata": {},
   "outputs": [
    {
     "name": "stdout",
     "output_type": "stream",
     "text": [
      "00001010\n"
     ]
    }
   ],
   "source": [
    "n = 0b1010\n",
    "x = 0b1110\n",
    "\n",
    "print (f\"{n & x:08b}\")\n"
   ]
  }
 ],
 "metadata": {
  "kernelspec": {
   "display_name": "Python 3",
   "language": "python",
   "name": "python3"
  },
  "language_info": {
   "codemirror_mode": {
    "name": "ipython",
    "version": 3
   },
   "file_extension": ".py",
   "mimetype": "text/x-python",
   "name": "python",
   "nbconvert_exporter": "python",
   "pygments_lexer": "ipython3",
   "version": "3.13.2"
  }
 },
 "nbformat": 4,
 "nbformat_minor": 5
}
